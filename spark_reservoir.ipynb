{
 "cells": [
  {
   "cell_type": "markdown",
   "metadata": {},
   "source": [
    "## Yashika Khurana\n",
    "### Reservoir Sampling - Big Data"
   ]
  },
  {
   "cell_type": "markdown",
   "metadata": {},
   "source": [
    "### setting up the environment"
   ]
  },
  {
   "cell_type": "code",
   "execution_count": 1,
   "metadata": {},
   "outputs": [
    {
     "name": "stderr",
     "output_type": "stream",
     "text": [
      "Setting default log level to \"WARN\".\n",
      "To adjust logging level use sc.setLogLevel(newLevel). For SparkR, use setLogLevel(newLevel).\n"
     ]
    },
    {
     "name": "stdout",
     "output_type": "stream",
     "text": [
      "23/04/01 09:23:36 WARN NativeCodeLoader: Unable to load native-hadoop library for your platform... using builtin-java classes where applicable\n"
     ]
    },
    {
     "data": {
      "text/html": [
       "\n",
       "            <div>\n",
       "                <p><b>SparkSession - in-memory</b></p>\n",
       "                \n",
       "        <div>\n",
       "            <p><b>SparkContext</b></p>\n",
       "\n",
       "            <p><a href=\"http://jupyter-yk2773:4040\">Spark UI</a></p>\n",
       "\n",
       "            <dl>\n",
       "              <dt>Version</dt>\n",
       "                <dd><code>v3.3.1</code></dd>\n",
       "              <dt>Master</dt>\n",
       "                <dd><code>local[*]</code></dd>\n",
       "              <dt>AppName</dt>\n",
       "                <dd><code>Reservoir Sampling Example</code></dd>\n",
       "            </dl>\n",
       "        </div>\n",
       "        \n",
       "            </div>\n",
       "        "
      ],
      "text/plain": [
       "<pyspark.sql.session.SparkSession at 0x7f197c672860>"
      ]
     },
     "execution_count": 1,
     "metadata": {},
     "output_type": "execute_result"
    }
   ],
   "source": [
    "\n",
    "import os\n",
    "import pyspark\n",
    "conf = pyspark.SparkConf().setAppName(\"Reservoir Sampling Example\") \\\n",
    "                  .set(\"spark.driver.memory\", \"8g\") \\\n",
    "                  .set(\"spark.executor.memory\", \"8g\")\\\n",
    "                  .set(\"spark.driver.maxResultSize\", \"2g\")\n",
    "conf.set('spark.ui.proxyBase', '/user/' + os.environ['JUPYTERHUB_USER'] + '/proxy/4040')\n",
    "sc = pyspark.SparkContext(conf=conf) \n",
    "spark = pyspark.sql.SparkSession(sc) \n",
    "spark"
   ]
  },
  {
   "cell_type": "markdown",
   "metadata": {},
   "source": [
    "### importing required libraries"
   ]
  },
  {
   "cell_type": "code",
   "execution_count": 2,
   "metadata": {},
   "outputs": [],
   "source": [
    "import IPython\n",
    "import pyspark\n",
    "import glob\n",
    "import os\n",
    "from pyspark.sql import SparkSession\n",
    "from pyspark.sql.functions import month, year, col\n",
    "from pyspark.sql.functions import isnull, sum\n",
    "from pyspark.sql.functions import countDistinct\n",
    "import pyspark.sql.functions as F"
   ]
  },
  {
   "cell_type": "markdown",
   "metadata": {},
   "source": [
    "### path to the data"
   ]
  },
  {
   "cell_type": "code",
   "execution_count": 3,
   "metadata": {},
   "outputs": [],
   "source": [
    "rootpath = 'shared/midterm/drive_stats_2019_Q1/'"
   ]
  },
  {
   "cell_type": "markdown",
   "metadata": {},
   "source": [
    "### reading the csv files"
   ]
  },
  {
   "cell_type": "code",
   "execution_count": 4,
   "metadata": {},
   "outputs": [
    {
     "name": "stderr",
     "output_type": "stream",
     "text": [
      "                                                                                \r"
     ]
    }
   ],
   "source": [
    "df=spark.read.csv(glob.glob(rootpath + \"*.csv\", recursive=True), inferSchema=True, header=True)"
   ]
  },
  {
   "cell_type": "code",
   "execution_count": 17,
   "metadata": {},
   "outputs": [
    {
     "name": "stderr",
     "output_type": "stream",
     "text": [
      "                                                                                \r"
     ]
    },
    {
     "data": {
      "text/plain": [
       "9577046"
      ]
     },
     "execution_count": 17,
     "metadata": {},
     "output_type": "execute_result"
    }
   ],
   "source": [
    "df.count()"
   ]
  },
  {
   "cell_type": "code",
   "execution_count": 5,
   "metadata": {},
   "outputs": [],
   "source": [
    "from random import random"
   ]
  },
  {
   "cell_type": "code",
   "execution_count": 6,
   "metadata": {},
   "outputs": [],
   "source": [
    "k = 50000 #sample size"
   ]
  },
  {
   "cell_type": "code",
   "execution_count": 7,
   "metadata": {},
   "outputs": [],
   "source": [
    "accumulator = sc.accumulator(0)"
   ]
  },
  {
   "cell_type": "code",
   "execution_count": 8,
   "metadata": {},
   "outputs": [],
   "source": [
    "reservoir = []"
   ]
  },
  {
   "cell_type": "markdown",
   "metadata": {},
   "source": [
    "### reservoir sampling function"
   ]
  },
  {
   "cell_type": "code",
   "execution_count": 66,
   "metadata": {},
   "outputs": [],
   "source": [
    "def reservoir_sampling(row):\n",
    "    global reservoir, accumulator\n",
    "    accumulator.add(1)\n",
    "    if len(reservoir) < k:\n",
    "        reservoir.append(row)\n",
    "    else:\n",
    "        j = int(random() * accumulator.value)\n",
    "        if j < k:\n",
    "            reservoir[j] = row"
   ]
  },
  {
   "cell_type": "markdown",
   "metadata": {},
   "source": [
    "### applying reservoir sampling to the dataframe"
   ]
  },
  {
   "cell_type": "code",
   "execution_count": 10,
   "metadata": {},
   "outputs": [
    {
     "name": "stdout",
     "output_type": "stream",
     "text": [
      "23/04/01 09:30:57 WARN package: Truncated the string representation of a plan since it was too large. This behavior can be adjusted by setting 'spark.sql.debug.maxToStringFields'.\n"
     ]
    },
    {
     "name": "stderr",
     "output_type": "stream",
     "text": [
      "[Stage 33:>                                                         (0 + 1) / 1]\r"
     ]
    }
   ],
   "source": [
    "for model in df.toLocalIterator():\n",
    "    reservoir_sampling(model)\n",
    "    \n",
    "    "
   ]
  },
  {
   "cell_type": "code",
   "execution_count": 15,
   "metadata": {},
   "outputs": [],
   "source": [
    "from pyspark.sql.types import StructType, StructField, StringType, IntegerType, DateType"
   ]
  },
  {
   "cell_type": "markdown",
   "metadata": {},
   "source": [
    "### defining the entire schema as some types couldn't be inferred automatically while using createDataframe()"
   ]
  },
  {
   "cell_type": "code",
   "execution_count": 27,
   "metadata": {},
   "outputs": [],
   "source": [
    "schema = StructType([\n",
    "    StructField(\"date\", DateType(), True),\n",
    "    StructField(\"serial_number\", StringType(), True),\n",
    "    StructField(\"model\", StringType(), True),\n",
    "    StructField(\"capacity_bytes\", StringType(), True),\n",
    "    StructField(\"failure\", IntegerType(), True),\n",
    "    StructField(\"smart_1_normalized\", StringType(), True),\n",
    "    StructField(\"smart_1_raw\", StringType(), True),\n",
    "    StructField(\"smart_2_normalized\", StringType(), True),\n",
    "    StructField(\"smart_2_raw\", StringType(), True),\n",
    "    StructField(\"smart_3_normalized\", StringType(), True),\n",
    "    StructField(\"smart_3_raw\", StringType(), True),\n",
    "    StructField(\"smart_4_normalized\", StringType(), True),\n",
    "    StructField(\"smart_4_raw\", StringType(), True),\n",
    "    StructField(\"smart_5_normalized\", StringType(), True),\n",
    "    StructField(\"smart_5_raw\", StringType(), True),\n",
    "    StructField(\"smart_7_normalized\", StringType(), True),\n",
    "    StructField(\"smart_7_raw\", StringType(), True),\n",
    "    StructField(\"smart_8_normalized\", IntegerType(), True),\n",
    "    StructField(\"smart_8_raw\", StringType(), True),\n",
    "    StructField(\"smart_9_normalized\", StringType(), True),\n",
    "    StructField(\"smart_9_raw\", StringType(), True),\n",
    "    StructField(\"smart_10_normalized\", StringType(), True),\n",
    "    StructField(\"smart_10_raw\", StringType(), True),\n",
    "    StructField(\"smart_11_normalized\", StringType(), True),\n",
    "    StructField(\"smart_11_raw\", StringType(), True),\n",
    "    StructField(\"smart_12_normalized\", StringType(), True),\n",
    "    StructField(\"smart_12_raw\", StringType(), True),\n",
    "    StructField(\"smart_13_normalized\", StringType(), True),\n",
    "    StructField(\"smart_13_raw\", StringType(), True),\n",
    "    StructField(\"smart_15_normalized\", StringType(), True),\n",
    "    StructField(\"smart_15_raw\", StringType(), True),\n",
    "    StructField(\"smart_16_normalized\", StringType(), True),\n",
    "    StructField(\"smart_16_raw\", StringType(), True),\n",
    "    StructField(\"smart_17_normalized\", StringType(), True),\n",
    "    StructField(\"smart_17_raw\", StringType(), True),\n",
    "    StructField(\"smart_22_normalized\", StringType(), True),\n",
    "    StructField(\"smart_22_raw\", StringType(), True),\n",
    "    StructField(\"smart_23_normalized\", StringType(), True),\n",
    "    StructField(\"smart_23_raw\", StringType(), True),\n",
    "    StructField(\"smart_24_normalized\", StringType(), True),\n",
    "    StructField(\"smart_24_raw\", StringType(), True),\n",
    "    StructField(\"smart_168_normalized\", StringType(), True),\n",
    "    StructField(\"smart_168_raw\", StringType(), True),\n",
    "    StructField(\"smart_170_normalized\", IntegerType(), True),\n",
    "    StructField(\"smart_170_raw\", StringType(), True),\n",
    "    StructField(\"smart_173_normalized\", StringType(), True),\n",
    "    StructField(\"smart_173_raw\", StringType(), True),\n",
    "    StructField(\"smart_174_normalized\", IntegerType(), True),\n",
    "    StructField(\"smart_174_raw\", StringType(), True),\n",
    "    StructField(\"smart_177_normalized\", StringType(), True),\n",
    "    StructField(\"smart_177_raw\", StringType(), True),\n",
    "    StructField(\"smart_179_normalized\", StringType(), True),\n",
    "    StructField(\"smart_179_raw\", StringType(), True),\n",
    "    StructField(\"smart_181_normalized\", StringType(), True),\n",
    "    StructField(\"smart_181_raw\", StringType(), True),\n",
    "    StructField(\"smart_182_normalized\", StringType(), True),\n",
    "    StructField(\"smart_182_raw\", StringType(), True),\n",
    "    StructField(\"smart_183_normalized\", IntegerType(), True),\n",
    "    StructField(\"smart_183_raw\", StringType(), True),\n",
    "    StructField(\"smart_184_normalized\", StringType(), True),\n",
    "    StructField(\"smart_184_raw\", StringType(), True),\n",
    "    StructField(\"smart_187_normalized\", StringType(), True),\n",
    "    StructField(\"smart_187_raw\", StringType(), True),\n",
    "    StructField(\"smart_188_normalized\", StringType(), True),\n",
    "    StructField(\"smart_188_raw\", StringType(), True),\n",
    "    StructField(\"smart_189_normalized\", StringType(), True),\n",
    "    StructField(\"smart_189_raw\", StringType(), True),\n",
    "    StructField(\"smart_190_normalized\", StringType(), True),\n",
    "    StructField(\"smart_190_raw\", StringType(), True),\n",
    "    StructField(\"smart_191_normalized\", StringType(), True),\n",
    "    StructField(\"smart_191_raw\", StringType(), True),\n",
    "    StructField(\"smart_192_normalized\", StringType(), True),\n",
    "    StructField(\"smart_192_raw\", StringType(), True),\n",
    "    StructField(\"smart_193_normalized\", StringType(), True),\n",
    "    StructField(\"smart_193_raw\", StringType(), True),\n",
    "    StructField(\"smart_194_normalized\", StringType(), True),\n",
    "    StructField(\"smart_194_raw\", StringType(), True),\n",
    "    StructField(\"smart_195_normalized\", StringType(), True),\n",
    "    StructField(\"smart_195_raw\", StringType(), True),\n",
    "    StructField(\"smart_196_normalized\", StringType(), True),\n",
    "    StructField(\"smart_196_raw\", StringType(), True),\n",
    "    StructField(\"smart_197_normalized\", StringType(), True),\n",
    "    StructField(\"smart_197_raw\", StringType(), True),\n",
    "    StructField(\"smart_198_normalized\", StringType(), True),\n",
    "    StructField(\"smart_198_raw\", StringType(), True),\n",
    "    StructField(\"smart_199_normalized\", StringType(), True),\n",
    "    StructField(\"smart_199_raw\", StringType(), True),\n",
    "    StructField(\"smart_200_normalized\", StringType(), True),\n",
    "    StructField(\"smart_200_raw\", StringType(), True),\n",
    "    StructField(\"smart_201_normalized\", StringType(), True),\n",
    "    StructField(\"smart_201_raw\", StringType(), True),\n",
    "    StructField(\"smart_218_normalized\", StringType(), True),\n",
    "    StructField(\"smart_218_raw\", StringType(), True),\n",
    "    StructField(\"smart_220_normalized\", StringType(), True),\n",
    "    StructField(\"smart_220_raw\", StringType(), True),\n",
    "    StructField(\"smart_222_normalized\", StringType(), True),\n",
    "    StructField(\"smart_222_raw\", StringType(), True),\n",
    "    StructField(\"smart_223_normalized\", StringType(), True),\n",
    "    StructField(\"smart_223_raw\", StringType(), True),\n",
    "    StructField(\"smart_224_normalized\", StringType(), True),\n",
    "    StructField(\"smart_224_raw\", StringType(), True),\n",
    "    StructField(\"smart_225_normalized\", StringType(), True),\n",
    "    StructField(\"smart_225_raw\", StringType(), True),\n",
    "    StructField(\"smart_226_normalized\", StringType(), True),\n",
    "    StructField(\"smart_226_raw\", StringType(), True),\n",
    "    StructField(\"smart_231_normalized\", StringType(), True),\n",
    "    StructField(\"smart_231_raw\", StringType(), True),\n",
    "    StructField(\"smart_232_normalized\", StringType(), True),\n",
    "    StructField(\"smart_232_raw\", StringType(), True),\n",
    "    StructField(\"smart_233_normalized\", StringType(), True),\n",
    "    StructField(\"smart_233_raw\", StringType(), True),\n",
    "    StructField(\"smart_235_normalized\", StringType(), True),\n",
    "    StructField(\"smart_235_raw\", StringType(), True),\n",
    "    StructField(\"smart_240_normalized\", StringType(), True),\n",
    "    StructField(\"smart_240_raw\", StringType(), True),\n",
    "    StructField(\"smart_241_normalized\", StringType(), True),\n",
    "    StructField(\"smart_241_raw\", StringType(), True),\n",
    "    StructField(\"smart_242_normalized\", StringType(), True),\n",
    "    StructField(\"smart_242_raw\", StringType(), True),\n",
    "    StructField(\"smart_250_normalized\", StringType(), True),\n",
    "    StructField(\"smart_250_raw\", StringType(), True),\n",
    "    StructField(\"smart_251_normalized\", StringType(), True),\n",
    "    StructField(\"smart_251_raw\", StringType(), True),\n",
    "    StructField(\"smart_252_normalized\", StringType(), True),\n",
    "    StructField(\"smart_252_raw\", StringType(), True),\n",
    "    StructField(\"smart_254_normalized\", StringType(), True),\n",
    "    StructField(\"smart_254_raw\", StringType(), True),\n",
    "    StructField(\"smart_255_normalized\", StringType(), True),\n",
    "    StructField(\"smart_255_raw\", StringType(), True),\n",
    "])"
   ]
  },
  {
   "cell_type": "code",
   "execution_count": 28,
   "metadata": {},
   "outputs": [],
   "source": [
    "#created dataframe\n",
    "df2 = spark.createDataFrame(reservoir, schema=schema)"
   ]
  },
  {
   "cell_type": "markdown",
   "metadata": {},
   "source": [
    "### writing the resultant dataframe to a csv file"
   ]
  },
  {
   "cell_type": "code",
   "execution_count": 29,
   "metadata": {},
   "outputs": [
    {
     "name": "stdout",
     "output_type": "stream",
     "text": [
      "23/04/01 11:10:46 WARN TaskSetManager: Stage 34 contains a task of very large size (5539 KiB). The maximum recommended task size is 1000 KiB.\n"
     ]
    },
    {
     "name": "stderr",
     "output_type": "stream",
     "text": [
      "                                                                                \r"
     ]
    }
   ],
   "source": [
    "df2.write.format(\"csv\").option(\"header\", \"true\").mode(\"overwrite\").save(\"output.csv\")"
   ]
  },
  {
   "cell_type": "markdown",
   "metadata": {},
   "source": [
    "### the resulting dataframe contains 50k samples as expected"
   ]
  },
  {
   "cell_type": "code",
   "execution_count": 31,
   "metadata": {},
   "outputs": [
    {
     "name": "stdout",
     "output_type": "stream",
     "text": [
      "23/04/01 11:12:26 WARN TaskSetManager: Stage 36 contains a task of very large size (5539 KiB). The maximum recommended task size is 1000 KiB.\n"
     ]
    },
    {
     "name": "stderr",
     "output_type": "stream",
     "text": [
      "                                                                                \r"
     ]
    },
    {
     "data": {
      "text/plain": [
       "50000"
      ]
     },
     "execution_count": 31,
     "metadata": {},
     "output_type": "execute_result"
    }
   ],
   "source": [
    "df2.count()"
   ]
  },
  {
   "cell_type": "code",
   "execution_count": 30,
   "metadata": {},
   "outputs": [
    {
     "name": "stdout",
     "output_type": "stream",
     "text": [
      "23/04/01 11:11:53 WARN TaskSetManager: Stage 35 contains a task of very large size (5539 KiB). The maximum recommended task size is 1000 KiB.\n"
     ]
    },
    {
     "data": {
      "text/plain": [
       "[Row(date=datetime.date(2019, 1, 25), serial_number='PL2331LAHBUH0J', model='HGST HMS5C4040BLE640', capacity_bytes='4000787030016', failure=0, smart_1_normalized='100', smart_1_raw='0', smart_2_normalized='134', smart_2_raw='100', smart_3_normalized='100', smart_3_raw='0', smart_4_normalized='100', smart_4_raw='2', smart_5_normalized='100', smart_5_raw='0', smart_7_normalized='100', smart_7_raw='0', smart_8_normalized=113, smart_8_raw='42', smart_9_normalized='97', smart_9_raw='22915', smart_10_normalized='100', smart_10_raw='0', smart_11_normalized=None, smart_11_raw=None, smart_12_normalized='100', smart_12_raw='2', smart_13_normalized=None, smart_13_raw=None, smart_15_normalized=None, smart_15_raw=None, smart_16_normalized=None, smart_16_raw=None, smart_17_normalized=None, smart_17_raw=None, smart_22_normalized=None, smart_22_raw=None, smart_23_normalized=None, smart_23_raw=None, smart_24_normalized=None, smart_24_raw=None, smart_168_normalized=None, smart_168_raw=None, smart_170_normalized=None, smart_170_raw=None, smart_173_normalized=None, smart_173_raw=None, smart_174_normalized=None, smart_174_raw=None, smart_177_normalized=None, smart_177_raw=None, smart_179_normalized=None, smart_179_raw=None, smart_181_normalized=None, smart_181_raw=None, smart_182_normalized=None, smart_182_raw=None, smart_183_normalized=None, smart_183_raw=None, smart_184_normalized=None, smart_184_raw=None, smart_187_normalized=None, smart_187_raw=None, smart_188_normalized=None, smart_188_raw=None, smart_189_normalized=None, smart_189_raw=None, smart_190_normalized=None, smart_190_raw=None, smart_191_normalized=None, smart_191_raw=None, smart_192_normalized='100', smart_192_raw='38', smart_193_normalized='100', smart_193_raw='38', smart_194_normalized='176', smart_194_raw='34', smart_195_normalized=None, smart_195_raw=None, smart_196_normalized='100', smart_196_raw='0', smart_197_normalized='100', smart_197_raw='0', smart_198_normalized='100', smart_198_raw='0', smart_199_normalized='200', smart_199_raw='0', smart_200_normalized=None, smart_200_raw=None, smart_201_normalized=None, smart_201_raw=None, smart_218_normalized=None, smart_218_raw=None, smart_220_normalized=None, smart_220_raw=None, smart_222_normalized=None, smart_222_raw=None, smart_223_normalized=None, smart_223_raw=None, smart_224_normalized=None, smart_224_raw=None, smart_225_normalized=None, smart_225_raw=None, smart_226_normalized=None, smart_226_raw=None, smart_231_normalized=None, smart_231_raw=None, smart_232_normalized=None, smart_232_raw=None, smart_233_normalized=None, smart_233_raw=None, smart_235_normalized=None, smart_235_raw=None, smart_240_normalized=None, smart_240_raw=None, smart_241_normalized=None, smart_241_raw=None, smart_242_normalized=None, smart_242_raw=None, smart_250_normalized=None, smart_250_raw=None, smart_251_normalized=None, smart_251_raw=None, smart_252_normalized=None, smart_252_raw=None, smart_254_normalized=None, smart_254_raw=None, smart_255_normalized=None, smart_255_raw=None),\n",
       " Row(date=datetime.date(2019, 3, 17), serial_number='PL1331LAGSP4WH', model='HGST HMS5C4040ALE640', capacity_bytes='4000787030016', failure=0, smart_1_normalized='100', smart_1_raw='0', smart_2_normalized='134', smart_2_raw='100', smart_3_normalized='207', smart_3_raw='302', smart_4_normalized='100', smart_4_raw='17', smart_5_normalized='100', smart_5_raw='0', smart_7_normalized='100', smart_7_raw='0', smart_8_normalized=113, smart_8_raw='42', smart_9_normalized='96', smart_9_raw='34654', smart_10_normalized='100', smart_10_raw='0', smart_11_normalized=None, smart_11_raw=None, smart_12_normalized='100', smart_12_raw='17', smart_13_normalized=None, smart_13_raw=None, smart_15_normalized=None, smart_15_raw=None, smart_16_normalized=None, smart_16_raw=None, smart_17_normalized=None, smart_17_raw=None, smart_22_normalized=None, smart_22_raw=None, smart_23_normalized=None, smart_23_raw=None, smart_24_normalized=None, smart_24_raw=None, smart_168_normalized=None, smart_168_raw=None, smart_170_normalized=None, smart_170_raw=None, smart_173_normalized=None, smart_173_raw=None, smart_174_normalized=None, smart_174_raw=None, smart_177_normalized=None, smart_177_raw=None, smart_179_normalized=None, smart_179_raw=None, smart_181_normalized=None, smart_181_raw=None, smart_182_normalized=None, smart_182_raw=None, smart_183_normalized=None, smart_183_raw=None, smart_184_normalized=None, smart_184_raw=None, smart_187_normalized=None, smart_187_raw=None, smart_188_normalized=None, smart_188_raw=None, smart_189_normalized=None, smart_189_raw=None, smart_190_normalized=None, smart_190_raw=None, smart_191_normalized=None, smart_191_raw=None, smart_192_normalized='100', smart_192_raw='551', smart_193_normalized='100', smart_193_raw='551', smart_194_normalized='222', smart_194_raw='27', smart_195_normalized=None, smart_195_raw=None, smart_196_normalized='100', smart_196_raw='0', smart_197_normalized='100', smart_197_raw='0', smart_198_normalized='100', smart_198_raw='0', smart_199_normalized='200', smart_199_raw='0', smart_200_normalized=None, smart_200_raw=None, smart_201_normalized=None, smart_201_raw=None, smart_218_normalized=None, smart_218_raw=None, smart_220_normalized=None, smart_220_raw=None, smart_222_normalized=None, smart_222_raw=None, smart_223_normalized=None, smart_223_raw=None, smart_224_normalized=None, smart_224_raw=None, smart_225_normalized=None, smart_225_raw=None, smart_226_normalized=None, smart_226_raw=None, smart_231_normalized=None, smart_231_raw=None, smart_232_normalized=None, smart_232_raw=None, smart_233_normalized=None, smart_233_raw=None, smart_235_normalized=None, smart_235_raw=None, smart_240_normalized=None, smart_240_raw=None, smart_241_normalized=None, smart_241_raw=None, smart_242_normalized=None, smart_242_raw=None, smart_250_normalized=None, smart_250_raw=None, smart_251_normalized=None, smart_251_raw=None, smart_252_normalized=None, smart_252_raw=None, smart_254_normalized=None, smart_254_raw=None, smart_255_normalized=None, smart_255_raw=None),\n",
       " Row(date=datetime.date(2019, 3, 28), serial_number='ZA120PAC', model='ST8000DM002', capacity_bytes='8001563222016', failure=0, smart_1_normalized='82', smart_1_raw='169634584', smart_2_normalized=None, smart_2_raw=None, smart_3_normalized='98', smart_3_raw='0', smart_4_normalized='100', smart_4_raw='1', smart_5_normalized='100', smart_5_raw='0', smart_7_normalized='94', smart_7_raw='2807774625', smart_8_normalized=None, smart_8_raw=None, smart_9_normalized='73', smart_9_raw='24120', smart_10_normalized='100', smart_10_raw='0', smart_11_normalized=None, smart_11_raw=None, smart_12_normalized='100', smart_12_raw='1', smart_13_normalized=None, smart_13_raw=None, smart_15_normalized=None, smart_15_raw=None, smart_16_normalized=None, smart_16_raw=None, smart_17_normalized=None, smart_17_raw=None, smart_22_normalized=None, smart_22_raw=None, smart_23_normalized=None, smart_23_raw=None, smart_24_normalized=None, smart_24_raw=None, smart_168_normalized=None, smart_168_raw=None, smart_170_normalized=None, smart_170_raw=None, smart_173_normalized=None, smart_173_raw=None, smart_174_normalized=None, smart_174_raw=None, smart_177_normalized=None, smart_177_raw=None, smart_179_normalized=None, smart_179_raw=None, smart_181_normalized=None, smart_181_raw=None, smart_182_normalized=None, smart_182_raw=None, smart_183_normalized=None, smart_183_raw=None, smart_184_normalized='100', smart_184_raw='0', smart_187_normalized='100', smart_187_raw='0', smart_188_normalized='100', smart_188_raw='0', smart_189_normalized='100', smart_189_raw='0', smart_190_normalized='69', smart_190_raw='31', smart_191_normalized='92', smart_191_raw='16824', smart_192_normalized='100', smart_192_raw='1', smart_193_normalized='98', smart_193_raw='5965', smart_194_normalized='31', smart_194_raw='31', smart_195_normalized='1', smart_195_raw='169634584', smart_196_normalized=None, smart_196_raw=None, smart_197_normalized='100', smart_197_raw='0', smart_198_normalized='100', smart_198_raw='0', smart_199_normalized='200', smart_199_raw='0', smart_200_normalized=None, smart_200_raw=None, smart_201_normalized=None, smart_201_raw=None, smart_218_normalized=None, smart_218_raw=None, smart_220_normalized=None, smart_220_raw=None, smart_222_normalized=None, smart_222_raw=None, smart_223_normalized=None, smart_223_raw=None, smart_224_normalized=None, smart_224_raw=None, smart_225_normalized=None, smart_225_raw=None, smart_226_normalized=None, smart_226_raw=None, smart_231_normalized=None, smart_231_raw=None, smart_232_normalized=None, smart_232_raw=None, smart_233_normalized=None, smart_233_raw=None, smart_235_normalized=None, smart_235_raw=None, smart_240_normalized='100', smart_240_raw='24105', smart_241_normalized='100', smart_241_raw='61686940216', smart_242_normalized='100', smart_242_raw='145837956776', smart_250_normalized=None, smart_250_raw=None, smart_251_normalized=None, smart_251_raw=None, smart_252_normalized=None, smart_252_raw=None, smart_254_normalized=None, smart_254_raw=None, smart_255_normalized=None, smart_255_raw=None)]"
      ]
     },
     "execution_count": 30,
     "metadata": {},
     "output_type": "execute_result"
    }
   ],
   "source": [
    "df2.head(n=3)"
   ]
  }
 ],
 "metadata": {
  "kernelspec": {
   "display_name": "Python 3 (ipykernel)",
   "language": "python",
   "name": "python3"
  },
  "language_info": {
   "codemirror_mode": {
    "name": "ipython",
    "version": 3
   },
   "file_extension": ".py",
   "mimetype": "text/x-python",
   "name": "python",
   "nbconvert_exporter": "python",
   "pygments_lexer": "ipython3",
   "version": "3.8.16"
  }
 },
 "nbformat": 4,
 "nbformat_minor": 4
}
